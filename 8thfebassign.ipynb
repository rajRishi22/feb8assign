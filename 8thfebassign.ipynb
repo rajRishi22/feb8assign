{
 "cells": [
  {
   "cell_type": "code",
   "execution_count": 9,
   "id": "d59fcf1c-a187-44e3-a749-6641fb2a21ad",
   "metadata": {},
   "outputs": [],
   "source": [
    "# 1.Ans\n",
    "# Abstraction is the process of hiding from the functionalities os a function from a user .\n",
    "# User is familiar with what the function does and not how it does it\n",
    "# We use abc module module in Python to use abstraction\n",
    "from abc import ABC  \n",
    "class ClassName(ABC):\n",
    "    pass\n"
   ]
  },
  {
   "cell_type": "code",
   "execution_count": 10,
   "id": "2086a3bd-7bfa-47c5-8110-9104aae90320",
   "metadata": {},
   "outputs": [],
   "source": [
    "# 2.Ans\n",
    "# Encapulation is the process of wrapping similar codes in One place\n",
    "# Abstraction is the process of hiding from the functionalities os a function from a user .\n",
    "# User is familiar with what the function does and not how it does it\n",
    "from abc import ABC  \n",
    "class ClassName(ABC):\n",
    "    pass\n",
    "class test:\n",
    "    def __init__(self,a,b):\n",
    "        self.a=a\n",
    "        self.b=b"
   ]
  },
  {
   "cell_type": "code",
   "execution_count": 11,
   "id": "e64f95d6-76db-491e-8548-cb61cb85d1d1",
   "metadata": {},
   "outputs": [],
   "source": [
    "# 3.Ans\n",
    "# abc module is used in python to do Abstraction\n",
    "# Unlike the other high-level language, Python doesn't provide the abstract class itself. We need to import the abc module, which provides the base for defining Abstract Base classes (ABC). The ABC works by decorating methods of the base class as abstract."
   ]
  },
  {
   "cell_type": "code",
   "execution_count": 12,
   "id": "db2c44bd-0f2c-4ecb-a39b-2921d8c509dc",
   "metadata": {},
   "outputs": [],
   "source": [
    "# 4.Ans\n",
    "# We use abc module module in Python to use abstraction\n",
    "from abc import ABC  \n",
    "class ClassName(ABC):\n",
    "    pass"
   ]
  },
  {
   "cell_type": "code",
   "execution_count": 13,
   "id": "089c0472-7361-43bc-bed3-ff11b8137566",
   "metadata": {},
   "outputs": [],
   "source": [
    "# 5.Ans\n",
    "# Abstract classes cannot be instantiated, but they can be subclassed. When an abstract class is subclassed, the subclass usually provides implementations for all of the abstract methods in its parent class.\n"
   ]
  },
  {
   "cell_type": "code",
   "execution_count": null,
   "id": "292f0a92-ea71-4a33-83ba-6700d6e080ac",
   "metadata": {},
   "outputs": [],
   "source": []
  }
 ],
 "metadata": {
  "kernelspec": {
   "display_name": "Python 3 (ipykernel)",
   "language": "python",
   "name": "python3"
  },
  "language_info": {
   "codemirror_mode": {
    "name": "ipython",
    "version": 3
   },
   "file_extension": ".py",
   "mimetype": "text/x-python",
   "name": "python",
   "nbconvert_exporter": "python",
   "pygments_lexer": "ipython3",
   "version": "3.10.8"
  }
 },
 "nbformat": 4,
 "nbformat_minor": 5
}
